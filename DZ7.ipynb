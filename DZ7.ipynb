{
 "cells": [
  {
   "cell_type": "markdown",
   "id": "59efb0cd",
   "metadata": {},
   "source": [
    "# Домашнее задание 7"
   ]
  },
  {
   "cell_type": "markdown",
   "id": "eac305be",
   "metadata": {},
   "source": [
    "### Задание 1, 2"
   ]
  },
  {
   "cell_type": "code",
   "execution_count": 28,
   "id": "bb5a496d",
   "metadata": {},
   "outputs": [],
   "source": [
    "import requests\n",
    "\n",
    "class Rate:\n",
    "    \"\"\"\n",
    "    Класс, выгружающий и обрабатывающий курсы и параметры различных валют с внешнего ресурса\n",
    "    \"\"\"\n",
    "    def __init__(self, format_='Value', diff='False'):\n",
    "        self.format = format_\n",
    "        self.diff = diff\n",
    "\n",
    "    \n",
    "    def exchange_rates(self):\n",
    "        \"\"\"\n",
    "        Возвращает ответ от внешнего сервиса в формате:\n",
    "        {\n",
    "            \"ID\": \"R01235\",\n",
    "            \"NumCode\": \"840\",\n",
    "            \"CharCode\": \"USD\",\n",
    "            \"Nominal\": 1,\n",
    "            \"Name\": \"Доллар США\",\n",
    "            \"Value\": 61.1629,\n",
    "            \"Previous\": 61.1958\n",
    "        }\n",
    "        \"\"\"\n",
    "        self.req = requests.get('https://www.cbr-xml-daily.ru/daily_json.js')\n",
    "        return self.req.json()['Valute']\n",
    "    \n",
    "    def make_format(self, currency):\n",
    "        \"\"\"\n",
    "        Возвращает информацию о валюте currency в двух возможных форматах:\n",
    "        \n",
    "        1) Полный (инициализация экземпляра класса с параметром 'Full'):\n",
    "        {\n",
    "            \"ID\": \"R01235\",\n",
    "            \"NumCode\": \"840\",\n",
    "            \"CharCode\": \"USD\",\n",
    "            \"Nominal\": 1,\n",
    "            \"Name\": \"Доллар США\",\n",
    "            \"Value\": 61.1629,\n",
    "            \"Previous\": 61.1958\n",
    "        }\n",
    "        \n",
    "        2) Сокращенный (по умолчанию):\n",
    "        61.1629\n",
    "        \"\"\"\n",
    "        response = self.exchange_rates()\n",
    "        difference = abs(float(response[currency]['Value']) - float(response[currency]['Previous']))\n",
    "        \n",
    "        if currency in response:\n",
    "            if self.format == 'Full':\n",
    "                return response[currency]\n",
    "            \n",
    "            if self.format == 'Value':\n",
    "                \n",
    "                if self.diff == 'True':\n",
    "                    return difference     \n",
    "                \n",
    "                if self.diff == 'False':\n",
    "                    return response[currency]['Value']\n",
    "            \n",
    "        return 'Error'\n",
    "        \n",
    "    def usd(self):\n",
    "        \"\"\"Возвращает текущий курс доллара США\"\"\"\n",
    "        return self.make_format('USD')\n",
    "    \n",
    "    def eur(self):\n",
    "        \"\"\"Возвращает текущий курс евро\"\"\"\n",
    "        return self.make_format('EUR')\n",
    "    \n",
    "    def kzt(self):\n",
    "        \"\"\"Возвращает текущий курс тенге\"\"\"\n",
    "        return self.make_format('KZT')        \n",
    "        \n",
    "    def try_(self):\n",
    "        \"\"\"\n",
    "        Возвращает текущий курс турецкой лиры. \n",
    "        ВНИМАНИЕ на наименование метода!\n",
    "        \"\"\"\n",
    "        return self.make_format('TRY')        \n",
    "\n",
    "# Задание 1 оформляю не функцией как сформулировано в задании, а методом класса, как было сказано на вебинаре от 08.10 (2:24:45)\n",
    "    def max_rate(self):\n",
    "        \"\"\"Возвращает наименование валюты с максимальным значение курса к российскому рублю\"\"\"\n",
    "        max_rate_currency = []\n",
    "        temp_max_rate_currency = 0\n",
    "        response = self.exchange_rates()\n",
    "        \n",
    "        for k, v in response.items():\n",
    "            if v['Value'] > temp_max_rate_currency:\n",
    "                temp_max_rate_currency = v['Value']\n",
    "                max_rate_currency = v['Name']\n",
    "        \n",
    "        return max_rate_currency\n",
    "\n",
    "# Задание 2\n",
    "    "
   ]
  },
  {
   "cell_type": "markdown",
   "id": "5c411cbe",
   "metadata": {},
   "source": [
    "##### Тест задания 1"
   ]
  },
  {
   "cell_type": "code",
   "execution_count": 15,
   "id": "ca59dcde",
   "metadata": {},
   "outputs": [],
   "source": [
    "r = Rate()"
   ]
  },
  {
   "cell_type": "code",
   "execution_count": 16,
   "id": "8ac19e87",
   "metadata": {},
   "outputs": [
    {
     "data": {
      "text/plain": [
       "'Китайских юаней'"
      ]
     },
     "execution_count": 16,
     "metadata": {},
     "output_type": "execute_result"
    }
   ],
   "source": [
    "r.max_rate()"
   ]
  },
  {
   "cell_type": "markdown",
   "id": "ff925143",
   "metadata": {},
   "source": [
    "##### Тест задания 2"
   ]
  },
  {
   "cell_type": "code",
   "execution_count": 19,
   "id": "b4848858",
   "metadata": {},
   "outputs": [],
   "source": [
    "a = Rate()"
   ]
  },
  {
   "cell_type": "code",
   "execution_count": 21,
   "id": "6b9678ab",
   "metadata": {},
   "outputs": [
    {
     "data": {
      "text/plain": [
       "61.3326"
      ]
     },
     "execution_count": 21,
     "metadata": {},
     "output_type": "execute_result"
    }
   ],
   "source": [
    "a.usd()"
   ]
  },
  {
   "cell_type": "code",
   "execution_count": 29,
   "id": "e638d5d8",
   "metadata": {},
   "outputs": [],
   "source": [
    "b = Rate(diff='True')"
   ]
  },
  {
   "cell_type": "code",
   "execution_count": 30,
   "id": "712a9141",
   "metadata": {},
   "outputs": [
    {
     "data": {
      "text/plain": [
       "0.16969999999999885"
      ]
     },
     "execution_count": 30,
     "metadata": {},
     "output_type": "execute_result"
    }
   ],
   "source": [
    "b.usd()"
   ]
  },
  {
   "cell_type": "code",
   "execution_count": 31,
   "id": "a747752b",
   "metadata": {},
   "outputs": [],
   "source": [
    "c = Rate('Full','True')"
   ]
  },
  {
   "cell_type": "code",
   "execution_count": 32,
   "id": "cd963a43",
   "metadata": {},
   "outputs": [
    {
     "data": {
      "text/plain": [
       "{'ID': 'R01235',\n",
       " 'NumCode': '840',\n",
       " 'CharCode': 'USD',\n",
       " 'Nominal': 1,\n",
       " 'Name': 'Доллар США',\n",
       " 'Value': 61.3326,\n",
       " 'Previous': 61.1629}"
      ]
     },
     "execution_count": 32,
     "metadata": {},
     "output_type": "execute_result"
    }
   ],
   "source": [
    "c.usd()"
   ]
  },
  {
   "cell_type": "markdown",
   "id": "122d47fc",
   "metadata": {},
   "source": [
    "### Задание 3"
   ]
  },
  {
   "cell_type": "code",
   "execution_count": 50,
   "id": "9cd38d49",
   "metadata": {},
   "outputs": [],
   "source": [
    "class Employee:\n",
    "    def __init__(self, name, seniority):\n",
    "        self.name = name\n",
    "        self.seniority = seniority\n",
    "        \n",
    "        self.grade = 1\n",
    "    \n",
    "    def grade_up(self):\n",
    "        \"\"\"Повышает уровень сотрудника\"\"\"\n",
    "        self.grade += 1\n",
    "    \n",
    "    def publish_grade(self):\n",
    "        \"\"\"Публикация результатов аккредитации сотрудников\"\"\"\n",
    "        print(self.name, self.grade)\n",
    "    \n",
    "    def check_if_it_is_time_for_upgrade(self):\n",
    "        pass\n",
    "\n",
    "\n",
    "\n",
    "class Designer(Employee):\n",
    "    \"\"\"Дочерний класс Designer родительского класса Employee увелиивает грейд за каждые 7 баллов \n",
    "    (1 балл за каждую акрредитацию, 2 балла за каждую международную премию)\"\"\"\n",
    "    def __init__(self, name, seniority, awards):\n",
    "        super().__init__(name, seniority)\n",
    "        self.awards = awards\n",
    "        \n",
    "    def check_if_it_is_time_for_upgrade(self):\n",
    "        \"\"\"Проверка необходимости повышения.\n",
    "        Повышение на 1 грейд проводится за каждые 7 баллов.\n",
    "        1 балл дается за факт прохождения аккредитации, 2 балла - за получение(наличие) международной премии\"\"\"\n",
    "        self.seniority = (2 * self.awards) + self.seniority + 1\n",
    "#        self.seniority += 1\n",
    "        #условия повышения сотрудника - 7 баллов\n",
    "        if self.seniority  % 7 == 0:\n",
    "            self.grade_up()\n",
    "        \n",
    "        #вывод результатов\n",
    "        return self.publish_grade()"
   ]
  },
  {
   "cell_type": "code",
   "execution_count": 51,
   "id": "df85c48f",
   "metadata": {},
   "outputs": [],
   "source": [
    "elena = Designer('Елена', seniority=0, awards=2)"
   ]
  },
  {
   "cell_type": "code",
   "execution_count": 52,
   "id": "99cfcca6",
   "metadata": {},
   "outputs": [
    {
     "name": "stdout",
     "output_type": "stream",
     "text": [
      "Елена 1\n",
      "Елена 1\n",
      "Елена 1\n",
      "Елена 1\n",
      "Елена 1\n",
      "Елена 1\n",
      "Елена 2\n",
      "Елена 2\n",
      "Елена 2\n",
      "Елена 2\n",
      "Елена 2\n",
      "Елена 2\n",
      "Елена 2\n",
      "Елена 3\n",
      "Елена 3\n",
      "Елена 3\n",
      "Елена 3\n",
      "Елена 3\n",
      "Елена 3\n",
      "Елена 3\n"
     ]
    }
   ],
   "source": [
    "for i in range(20):\n",
    "    elena.check_if_it_is_time_for_upgrade()"
   ]
  }
 ],
 "metadata": {
  "kernelspec": {
   "display_name": "Python 3 (ipykernel)",
   "language": "python",
   "name": "python3"
  },
  "language_info": {
   "codemirror_mode": {
    "name": "ipython",
    "version": 3
   },
   "file_extension": ".py",
   "mimetype": "text/x-python",
   "name": "python",
   "nbconvert_exporter": "python",
   "pygments_lexer": "ipython3",
   "version": "3.9.12"
  }
 },
 "nbformat": 4,
 "nbformat_minor": 5
}
