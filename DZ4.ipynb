{
 "cells": [
  {
   "cell_type": "code",
   "execution_count": 29,
   "id": "30a9f9b6",
   "metadata": {},
   "outputs": [
    {
     "name": "stdout",
     "output_type": "stream",
     "text": [
      "Введите команду:p\n",
      "Введите номер документа:10006\n",
      "Владелец документа: Аристарх Павлов, Геннадий Покемонов\n",
      "Введите команду:s\n",
      "Введите номер документа:33233232\n",
      "Документ не найден\n",
      "Введите команду:s\n",
      "Введите номер документа:10006\n",
      "Документ хранится на полке:  2\n",
      "Введите команду:q\n",
      "Выход из программы\n"
     ]
    }
   ],
   "source": [
    "documents = [\n",
    " {'type': 'passport', 'number': '2207 876234', 'name': 'Василий Гупкин'},\n",
    " {'type': 'invoice', 'number': '11-2', 'name': 'Геннадий Покемонов'},\n",
    " {'type': 'insurance', 'number': '10006', 'name': 'Аристарх Павлов'},\n",
    " {'type': 'insurance', 'number': '10006', 'name': 'Геннадий Покемонов'}\n",
    "]\n",
    "\n",
    "directories = {\n",
    " '1': ['2207 876234', '11-2'],\n",
    " '2': ['10006'],\n",
    " '3': []\n",
    "}\n",
    "\n",
    "\n",
    "def doc_owner(key, lst):\n",
    "    result=[]\n",
    "    for i in lst:\n",
    "        if key in i['number']:\n",
    "            result.append(i['name'])\n",
    "    return result, key      \n",
    "\n",
    "def exception(result):\n",
    "    if result[0] != []:\n",
    "        print('Владелец документа:', end=' ')\n",
    "        print(*result[0], sep=', ')\n",
    "    else:\n",
    "        print('Документ', result[1], 'не найден')   \n",
    "\n",
    "def find_shelf(number, shelfs):\n",
    "    for shelf in shelfs:\n",
    "        if number in shelfs[shelf]:\n",
    "            return shelf\n",
    "        \n",
    "        \n",
    "def main():\n",
    "    command = str(input('Введите команду:'))\n",
    "    while command != 'q':\n",
    "        if command == 'p':\n",
    "            number_req = str(input('Введите номер документа:'))\n",
    "            exception(doc_owner(number_req, documents))\n",
    "            command = str(input('Введите команду:'))\n",
    "        elif command == 's':\n",
    "            number_req = str(input('Введите номер документа:'))\n",
    "            if find_shelf(number_req, directories):\n",
    "                print('Документ хранится на полке: ', find_shelf(number_req, directories))\n",
    "            else:\n",
    "                print('Документ не найден')\n",
    "            command = str(input('Введите команду:'))\n",
    "        else:\n",
    "            print('Неизвестная команда')\n",
    "            command = str(input('Введите команду:'))\n",
    "    print('Выход из программы')\n",
    "   \n",
    "main()"
   ]
  }
 ],
 "metadata": {
  "kernelspec": {
   "display_name": "Python 3 (ipykernel)",
   "language": "python",
   "name": "python3"
  },
  "language_info": {
   "codemirror_mode": {
    "name": "ipython",
    "version": 3
   },
   "file_extension": ".py",
   "mimetype": "text/x-python",
   "name": "python",
   "nbconvert_exporter": "python",
   "pygments_lexer": "ipython3",
   "version": "3.9.12"
  }
 },
 "nbformat": 4,
 "nbformat_minor": 5
}
