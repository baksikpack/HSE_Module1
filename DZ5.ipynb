{
 "cells": [
  {
   "cell_type": "markdown",
   "id": "0ea90bdf",
   "metadata": {},
   "source": [
    "# Домашнее задание 5"
   ]
  },
  {
   "cell_type": "markdown",
   "id": "42e7be77",
   "metadata": {},
   "source": [
    "### Задание 1"
   ]
  },
  {
   "cell_type": "code",
   "execution_count": 123,
   "id": "4e895273",
   "metadata": {
    "scrolled": true
   },
   "outputs": [],
   "source": [
    "import json\n",
    "\n",
    "def dict_from_file(import_file_name):\n",
    "    \n",
    "    i = 0\n",
    "    purchases = {}\n",
    "    \n",
    "    with open(import_file_name, 'r', encoding='utf-8') as f:\n",
    "        for line in f:\n",
    "#удаляю первый элемент исходного json\n",
    "            if not i == 0:\n",
    "# записываю каждую сроку файла в переменную line\n",
    "                line = line.strip()\n",
    "# создаю словарь из строки\n",
    "                temp_dict = json.loads(line)\n",
    "# наполняю словарь purchase        \n",
    "                purchases[temp_dict['user_id']] = temp_dict['category']\n",
    "\n",
    "            i += 1\n",
    "\n",
    "    return purchases"
   ]
  },
  {
   "cell_type": "markdown",
   "id": "9abec3c5",
   "metadata": {},
   "source": [
    "### Задание 2"
   ]
  },
  {
   "cell_type": "code",
   "execution_count": 124,
   "id": "8bde0366",
   "metadata": {},
   "outputs": [],
   "source": [
    "def result_to_file(export_file_name, purchases):\n",
    "    \n",
    "    i = 0\n",
    "\n",
    "    with open(export_file_name) as from_file:\n",
    "        with open ('funnel.csv', 'a') as to_file:\n",
    "            for line in from_file:\n",
    "                if i == 0:\n",
    "                    new_line = line.strip() + ',category'\n",
    "                    to_file.write(f\"{new_line}\\n\")\n",
    "                    i += 1\n",
    "                else:\n",
    "                    user_id, source = line.strip().split(',')\n",
    "        # присвоил переменным значения строки в visit_log.csv\n",
    "                    if purchases.get(user_id):\n",
    "        # если used_id есть в purchase_log.txt - возвращаем True\n",
    "                        new_line = line.strip() + ',' + purchases.get(user_id)\n",
    "                        to_file.write(f\"{new_line}\\n\")\n",
    "                    i += 1"
   ]
  },
  {
   "cell_type": "code",
   "execution_count": 125,
   "id": "9922cfbd",
   "metadata": {},
   "outputs": [],
   "source": [
    "def main():\n",
    "    purchases = dict_from_file('purchase_log.txt')\n",
    "    result_to_file('visit_log.csv', purchases)"
   ]
  },
  {
   "cell_type": "code",
   "execution_count": 126,
   "id": "5d2f71d0",
   "metadata": {},
   "outputs": [],
   "source": [
    "main()"
   ]
  }
 ],
 "metadata": {
  "kernelspec": {
   "display_name": "Python 3 (ipykernel)",
   "language": "python",
   "name": "python3"
  },
  "language_info": {
   "codemirror_mode": {
    "name": "ipython",
    "version": 3
   },
   "file_extension": ".py",
   "mimetype": "text/x-python",
   "name": "python",
   "nbconvert_exporter": "python",
   "pygments_lexer": "ipython3",
   "version": "3.9.12"
  }
 },
 "nbformat": 4,
 "nbformat_minor": 5
}
