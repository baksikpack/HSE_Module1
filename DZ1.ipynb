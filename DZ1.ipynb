{
 "cells": [
  {
   "cell_type": "markdown",
   "id": "98ccdc79",
   "metadata": {},
   "source": [
    "### Задание 1"
   ]
  },
  {
   "cell_type": "code",
   "execution_count": 15,
   "id": "22785951",
   "metadata": {
    "scrolled": true
   },
   "outputs": [
    {
     "name": "stdout",
     "output_type": "stream",
     "text": [
      "Задайте год: 2021\n",
      "2021 - невисокосный год\n"
     ]
    }
   ],
   "source": [
    "year = int(input('Задайте год: ')) #запрашиваем год у пользователя\n",
    "if year % 4 == 0:\n",
    "    print(year, '- високосный год')\n",
    "else:\n",
    "    print(year, '- невисокосный год')"
   ]
  },
  {
   "cell_type": "markdown",
   "id": "64334968",
   "metadata": {},
   "source": [
    "### Задание 2"
   ]
  },
  {
   "cell_type": "code",
   "execution_count": 35,
   "id": "fa859f4c",
   "metadata": {},
   "outputs": [
    {
     "name": "stdout",
     "output_type": "stream",
     "text": [
      "Введите шестизначный номер билета: 555663\n",
      "Билет счастливый! ПОЗДРАВЛЯЮ!\n"
     ]
    }
   ],
   "source": [
    "ticket_number = int(input('Введите шестизначный номер билета: '))            #запрашиваем номер билета\n",
    "sum_left = 0            #сумма первых трех числел\n",
    "sum_right = 0            #сумма последних трех числел\n",
    "for i in range(6):\n",
    "    if i < 3:            #посимвольный сдвиг справа налево\n",
    "        sum_right += ticket_number // (10 ** i) % 10 \n",
    "    else:\n",
    "        sum_left += ticket_number // (10**i) % 10\n",
    "if sum_left == sum_right:\n",
    "    print('Билет счастливый! ПОЗДРАВЛЯЮ!')\n",
    "else:\n",
    "    print('Билет несчастливый. Попробуйте еще раз')  "
   ]
  }
 ],
 "metadata": {
  "kernelspec": {
   "display_name": "Python 3 (ipykernel)",
   "language": "python",
   "name": "python3"
  },
  "language_info": {
   "codemirror_mode": {
    "name": "ipython",
    "version": 3
   },
   "file_extension": ".py",
   "mimetype": "text/x-python",
   "name": "python",
   "nbconvert_exporter": "python",
   "pygments_lexer": "ipython3",
   "version": "3.9.12"
  }
 },
 "nbformat": 4,
 "nbformat_minor": 5
}
