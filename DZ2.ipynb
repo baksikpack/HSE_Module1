{
 "cells": [
  {
   "cell_type": "markdown",
   "id": "232918e2",
   "metadata": {},
   "source": [
    "### Задание 1"
   ]
  },
  {
   "cell_type": "code",
   "execution_count": 29,
   "id": "fcc4c17d",
   "metadata": {},
   "outputs": [
    {
     "name": "stdout",
     "output_type": "stream",
     "text": [
      "Введите слово: 01234567890123456789\n"
     ]
    }
   ],
   "source": [
    "word = str(input('Введите слово: ')) #задаем слово"
   ]
  },
  {
   "cell_type": "code",
   "execution_count": 30,
   "id": "b07cbbda",
   "metadata": {},
   "outputs": [
    {
     "name": "stdout",
     "output_type": "stream",
     "text": [
      "90\n"
     ]
    }
   ],
   "source": [
    "if len(word) % 2 == 0:\n",
    "    count_middle_left = int(len(word)/2 - 1)\n",
    "    count_middle_right = int(len(word)/2 + 1)\n",
    "    result = word[count_middle_left:count_middle_right]\n",
    "    print(result)\n",
    "else:\n",
    "    count_middle = int(len(word)//2)\n",
    "    result = word[count_middle]\n",
    "    print(result)"
   ]
  },
  {
   "cell_type": "markdown",
   "id": "970d113e",
   "metadata": {},
   "source": [
    "### Задание 2"
   ]
  },
  {
   "cell_type": "code",
   "execution_count": 51,
   "id": "f226dadc",
   "metadata": {},
   "outputs": [
    {
     "name": "stdout",
     "output_type": "stream",
     "text": [
      "Alex и Emma - идеальные пары!\n",
      "Arthur и Emma - идеальные пары!\n",
      "John и Kate - идеальные пары!\n",
      "Peter и Kira - идеальные пары!\n",
      "Richard и Liza - идеальные пары!\n",
      "Richard и Trisha - идеальные пары!\n"
     ]
    }
   ],
   "source": [
    "import copy\n",
    "boys = ['Peter', 'Alex', 'John', 'Arthur', 'Richard', 'Richard'] \n",
    "girls = ['Kate', 'Liza', 'Kira', 'Emma', 'Emma', 'Trisha'] \n",
    "boys_sorted = copy.copy(sorted(boys))\n",
    "girls_sorted = copy.copy(sorted(girls))\n",
    "if len(boys) == len(girls):\n",
    "    for b, g in zip(boys_sorted, girls_sorted):\n",
    "        print(f'{b} и {g} - идеальные пары!')\n",
    "elif len(boys) < len(girls):\n",
    "    print('Недостаточно юношей!')\n",
    "else:\n",
    "    print('Недостаточно девушек!')"
   ]
  },
  {
   "cell_type": "code",
   "execution_count": null,
   "id": "502871a7",
   "metadata": {},
   "outputs": [],
   "source": []
  }
 ],
 "metadata": {
  "kernelspec": {
   "display_name": "Python 3 (ipykernel)",
   "language": "python",
   "name": "python3"
  },
  "language_info": {
   "codemirror_mode": {
    "name": "ipython",
    "version": 3
   },
   "file_extension": ".py",
   "mimetype": "text/x-python",
   "name": "python",
   "nbconvert_exporter": "python",
   "pygments_lexer": "ipython3",
   "version": "3.9.12"
  }
 },
 "nbformat": 4,
 "nbformat_minor": 5
}
