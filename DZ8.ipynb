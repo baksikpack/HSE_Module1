{
 "cells": [
  {
   "cell_type": "markdown",
   "id": "54c832ea",
   "metadata": {},
   "source": [
    "Задание 1\n",
    "Напишите функцию, которая принимает на вход строку и проверяет, является ли она валидным транспортным номером (1 буква, 3 цифры, 2 буквы, 2-3 цифры). Обратите внимание, что не все буквы кириллического алфавита используются в транспортных номерах.\n",
    "\n",
    "Если номер валиден, то функция должна возвращать отдельно номер и регион.\n",
    "\n",
    "Примеры работы программы:\n",
    "\n",
    "car_id = 'А222BС96'\n",
    "Результат: Номер А222BС валиден. Регион: 96\n",
    "\n",
    "car_id = 'АБ22ВВ193'\n",
    "Результат: Номер не валиден\n",
    "\n",
    "\n",
    "\n",
    "Задание 2 (не обязательное)\n",
    "Напишите функцию, которая будет удалять все последовательные повторы слов из заданной строки при помощи регулярных выражений.\n",
    "\n",
    "Пример работы программы:\n",
    "\n",
    "some_string = 'Напишите функцию функцию, которая будет будет будет будет удалять все все все все последовательные повторы слов из из из из заданной строки строки при помощи регулярных выражений'\n",
    "\n",
    "Результат: Напишите функцию, которая будет удалять все последовательные повторы слов из заданной строки при помощи регулярных выражений\n"
   ]
  },
  {
   "cell_type": "markdown",
   "id": "010c0076",
   "metadata": {},
   "source": [
    "# Домашнее задание 8"
   ]
  },
  {
   "cell_type": "markdown",
   "id": "924d59b8",
   "metadata": {},
   "source": [
    "### Задание 1"
   ]
  },
  {
   "cell_type": "code",
   "execution_count": 46,
   "id": "f33864c5",
   "metadata": {},
   "outputs": [],
   "source": [
    "import re\n",
    "\n",
    "def car_id_checker(car_id):\n",
    "    \n",
    "    number_test = re.compile(r'[АВЕКМНОРСТУХ]{1}\\d{3}[АВЕКМНОРСТУХ]{2}(?P<region>\\d{2,3})', flags=re.IGNORECASE)\n",
    "#    print(number_test)\n",
    "    result = number_test.search(car_id)\n",
    "    if result:\n",
    "        print(f\"{car_id} валиден. Регион: {result.group('region')}\")\n",
    "    else:\n",
    "        print('Номер не валиден')"
   ]
  },
  {
   "cell_type": "code",
   "execution_count": 48,
   "id": "745359b4",
   "metadata": {},
   "outputs": [
    {
     "name": "stdout",
     "output_type": "stream",
     "text": [
      "а222ВС96 валиден. Регион: 96\n"
     ]
    }
   ],
   "source": [
    "car_id_checker('а222ВС96')"
   ]
  },
  {
   "cell_type": "code",
   "execution_count": 39,
   "id": "4e373efd",
   "metadata": {},
   "outputs": [
    {
     "name": "stdout",
     "output_type": "stream",
     "text": [
      "Номер не валиден\n"
     ]
    }
   ],
   "source": [
    "car_id_checker('АБ22ВВ193')"
   ]
  },
  {
   "cell_type": "markdown",
   "id": "d4d38586",
   "metadata": {},
   "source": [
    "### Задание 2"
   ]
  },
  {
   "cell_type": "code",
   "execution_count": 51,
   "id": "87542021",
   "metadata": {},
   "outputs": [],
   "source": [
    "import re\n",
    "\n",
    "def del_repeat(some_string):\n",
    "    print(re.sub(r'\\b([^\\W\\d_]+)(\\s+\\1)+\\b', r'\\1', some_string, flags=re.IGNORECASE))"
   ]
  },
  {
   "cell_type": "code",
   "execution_count": 52,
   "id": "de34aef2",
   "metadata": {},
   "outputs": [
    {
     "name": "stdout",
     "output_type": "stream",
     "text": [
      "Напишите функцию, которая будет удалять все последовательные повторы слов из заданной строки при помощи регулярных выражений\n"
     ]
    }
   ],
   "source": [
    "del_repeat('Напишите функцию функцию, которая будет будет будет будет удалять все все все все последовательные повторы слов из из из из заданной строки строки при помощи регулярных выражений')"
   ]
  }
 ],
 "metadata": {
  "kernelspec": {
   "display_name": "Python 3 (ipykernel)",
   "language": "python",
   "name": "python3"
  },
  "language_info": {
   "codemirror_mode": {
    "name": "ipython",
    "version": 3
   },
   "file_extension": ".py",
   "mimetype": "text/x-python",
   "name": "python",
   "nbconvert_exporter": "python",
   "pygments_lexer": "ipython3",
   "version": "3.9.12"
  }
 },
 "nbformat": 4,
 "nbformat_minor": 5
}
