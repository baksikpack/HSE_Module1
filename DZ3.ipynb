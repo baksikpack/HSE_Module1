{
 "cells": [
  {
   "cell_type": "markdown",
   "id": "983654da",
   "metadata": {},
   "source": [
    "### Задача 1"
   ]
  },
  {
   "cell_type": "code",
   "execution_count": 47,
   "id": "f17254f8",
   "metadata": {},
   "outputs": [
    {
     "name": "stdout",
     "output_type": "stream",
     "text": [
      "Результат:  {98, 35, 15, 16, 213, 54, 119, 56}\n"
     ]
    }
   ],
   "source": [
    "ids = {\n",
    "    'user1': [213, 213, 213, 15, 213], \n",
    "    'user2': [54, 54, 119, 119, 119], \n",
    "    'user3': [213, 98, 98, 35],\n",
    "    'user4': [16, 98, 56, 56]\n",
    "}\n",
    "res = set()\n",
    "\n",
    "for key, value in ids.items():\n",
    "    for i in value:\n",
    "        res.add(i)\n",
    "\n",
    "print('Результат: ', res)"
   ]
  },
  {
   "cell_type": "markdown",
   "id": "217e94c1",
   "metadata": {},
   "source": [
    "### Задача 2"
   ]
  },
  {
   "cell_type": "code",
   "execution_count": 114,
   "id": "744e0239",
   "metadata": {},
   "outputs": [
    {
     "name": "stdout",
     "output_type": "stream",
     "text": [
      "Поисковых запросов, содержащих 2 слов(а): 37.5%\n",
      "Поисковых запросов, содержащих 3 слов(а): 50.0%\n",
      "Поисковых запросов, содержащих 5 слов(а): 12.5%\n"
     ]
    }
   ],
   "source": [
    "queries = [\n",
    "    'смотреть сериалы онлайн',\n",
    "    'новости спорта',\n",
    "    'афиша кино',\n",
    "    'курс доллара',\n",
    "    'сериалы этим летом',\n",
    "    'курс по питону',\n",
    "    'сериалы про спорт',\n",
    "    'сериалы не про тот спорт',\n",
    "]\n",
    "\n",
    "word_number_list = list()\n",
    "for i in queries:\n",
    "    word_number = int(len(i.split(' ')))\n",
    "    word_number_list.append(word_number)\n",
    "word_number_list.sort()\n",
    "\n",
    "last_j = int() #переменнная для записи и последующего сравнения со следующим значением списка\n",
    "for j in word_number_list:\n",
    "    if j != last_j:\n",
    "        last_j = j\n",
    "        percent = round(float((word_number_list.count(j)*100)/len(word_number_list)), 2)\n",
    "        print(f'Поисковых запросов, содержащих {j} слов(а): {percent}%')"
   ]
  },
  {
   "cell_type": "markdown",
   "id": "3e4eda2b",
   "metadata": {},
   "source": [
    "### Задача 3"
   ]
  },
  {
   "cell_type": "code",
   "execution_count": 175,
   "id": "6af0c00f",
   "metadata": {},
   "outputs": [
    {
     "data": {
      "text/plain": [
       "{'adwords': {'ROI': 2.94, 'cost': 34, 'revenue': 35},\n",
       " 'facebook': {'ROI': -6.36, 'cost': 110, 'revenue': 103},\n",
       " 'twitter': {'ROI': -54.17, 'cost': 24, 'revenue': 11},\n",
       " 'vk': {'ROI': 5.1, 'cost': 98, 'revenue': 103},\n",
       " 'yandex': {'ROI': 16.99, 'cost': 153, 'revenue': 179}}"
      ]
     },
     "execution_count": 175,
     "metadata": {},
     "output_type": "execute_result"
    }
   ],
   "source": [
    "results = {\n",
    "    'vk': {'revenue': 103, 'cost': 98},\n",
    "    'yandex': {'revenue': 179, 'cost': 153},\n",
    "    'facebook': {'revenue': 103, 'cost': 110},\n",
    "    'adwords': {'revenue': 35, 'cost': 34},\n",
    "    'twitter': {'revenue': 11, 'cost': 24},\n",
    "}\n",
    "\n",
    "for key, value in results.items():\n",
    "    roi = round(float((value ['revenue'] - value ['cost'])*100/value ['cost']), 2)\n",
    "    value ['ROI'] = roi\n",
    "    \n",
    "sorted_dict = dict(sorted(results.items()))\n",
    "for resource, statistic in sorted_dict.items():\n",
    "    statistic = dict(reversed(statistic.items()))\n",
    "    sorted_dict[resource] = statistic\n",
    "\n",
    "sorted_dict"
   ]
  },
  {
   "cell_type": "markdown",
   "id": "c952ec9a",
   "metadata": {},
   "source": [
    "### Задача 4"
   ]
  },
  {
   "cell_type": "code",
   "execution_count": 206,
   "id": "82353803",
   "metadata": {},
   "outputs": [
    {
     "name": "stdout",
     "output_type": "stream",
     "text": [
      "Максимальный объем продаж на рекламном канале: vk\n"
     ]
    }
   ],
   "source": [
    "stats = {'facebook': 55, 'yandex': 115, 'vk': 120, 'google': 99, 'email': 42, 'ok': 98}\n",
    "largest_val = 0\n",
    "\n",
    "for res, val in stats.items():\n",
    "    if val > largest_val:\n",
    "        largest_val = val\n",
    "largest_res = [res for res in stats if stats[res] == largest_val]\n",
    "print('Максимальный объем продаж на рекламном канале:', *largest_res, sep=' ')"
   ]
  },
  {
   "cell_type": "markdown",
   "id": "52bf1fb7",
   "metadata": {},
   "source": [
    "### Задача 5"
   ]
  },
  {
   "cell_type": "code",
   "execution_count": 235,
   "id": "a8067267",
   "metadata": {},
   "outputs": [
    {
     "data": {
      "text/plain": [
       "{'a': {'b': {'c': {'d': {'e': 'f'}}}}}"
      ]
     },
     "execution_count": 235,
     "metadata": {},
     "output_type": "execute_result"
    }
   ],
   "source": [
    "my_list = ['a', 'b', 'c', 'd', 'e', 'f']\n",
    "\n",
    "dictionary = my_list[-1]\n",
    "for new_key in my_list[-2::-1]:\n",
    "    dictionary = {new_key: dictionary}\n",
    "dictionary"
   ]
  }
 ],
 "metadata": {
  "kernelspec": {
   "display_name": "Python 3 (ipykernel)",
   "language": "python",
   "name": "python3"
  },
  "language_info": {
   "codemirror_mode": {
    "name": "ipython",
    "version": 3
   },
   "file_extension": ".py",
   "mimetype": "text/x-python",
   "name": "python",
   "nbconvert_exporter": "python",
   "pygments_lexer": "ipython3",
   "version": "3.9.12"
  }
 },
 "nbformat": 4,
 "nbformat_minor": 5
}
